{
 "cells": [
  {
   "cell_type": "code",
   "execution_count": 13,
   "id": "acd01f80",
   "metadata": {},
   "outputs": [],
   "source": [
    "# libraries\n",
    "import pandas as pd\n",
    "from sklearn.feature_extraction.text import TfidfVectorizer\n",
    "from sklearn.metrics.pairwise import cosine_similarity\n"
   ]
  },
  {
   "cell_type": "code",
   "execution_count": 14,
   "id": "50d75303",
   "metadata": {},
   "outputs": [],
   "source": [
    "# Load movie data\n",
    "movies = pd.read_csv(\"movies.csv\").head(5000)\n",
    "movies['genres'] = movies['genres'].fillna('')\n"
   ]
  },
  {
   "cell_type": "code",
   "execution_count": 15,
   "id": "f3a88bf7",
   "metadata": {},
   "outputs": [],
   "source": [
    "# Create TF-IDF vector for genres\n",
    "tfidf = TfidfVectorizer(stop_words='english')\n",
    "tfidf_matrix = tfidf.fit_transform(movies['genres'])\n",
    "\n",
    "# Compute cosine similarity between movies\n",
    "cosine_sim = cosine_similarity(tfidf_matrix, tfidf_matrix)\n",
    "\n",
    "# Map movie titles to indices\n",
    "indices = pd.Series(movies.index, index=movies['title']).drop_duplicates()\n"
   ]
  },
  {
   "cell_type": "code",
   "execution_count": 18,
   "id": "3f3b05bd",
   "metadata": {},
   "outputs": [
    {
     "name": "stdout",
     "output_type": "stream",
     "text": [
      "Enter a movie title: Father of the Bride Part II\n",
      "\n",
      "Because you liked 'Father of the Bride Part II (1995)', you might also like:\n",
      "1. Four Rooms (1995)\n",
      "2. Ace Ventura: When Nature Calls (1995)\n",
      "3. Bio-Dome (1996)\n",
      "4. Friday (1995)\n",
      "5. Black Sheep (1996)\n"
     ]
    }
   ],
   "source": [
    "# closest match\n",
    "def get_closest_match(title, titles):\n",
    "    title = title.lower()\n",
    "    for t in titles:\n",
    "        if title in t.lower():\n",
    "            return t\n",
    "    return None\n",
    "\n",
    "# Recommendation Function \n",
    "def recommend(title, top_n=5):\n",
    "    if title not in indices:\n",
    "        return []\n",
    "\n",
    "    idx = indices[title]\n",
    "    sim_scores = list(enumerate(cosine_sim[idx]))\n",
    "    sim_scores = sorted(sim_scores, key=lambda x: x[1], reverse=True)\n",
    "    sim_scores = sim_scores[1:top_n + 1] \n",
    "    movie_indices = [i[0] for i in sim_scores]\n",
    "    return movies['title'].iloc[movie_indices].tolist()\n",
    "\n",
    "# Main Program\n",
    "if __name__ == '__main__':\n",
    "    user_input = input(\"Enter a movie title: \").strip()\n",
    "\n",
    "    # Try to match title\n",
    "    matched_title = get_closest_match(user_input, movies['title'])\n",
    "\n",
    "    if matched_title:\n",
    "        results = recommend(matched_title)\n",
    "        if results:\n",
    "            print(f\"\\nBecause you liked '{matched_title}', you might also like:\")\n",
    "            for i, movie in enumerate(results, 1):\n",
    "                print(f\"{i}. {movie}\")\n",
    "        else:\n",
    "            print(\"No recommendations found.\")\n",
    "    else:\n",
    "        print(f\"Movie '{user_input}' not found in the database.\")"
   ]
  },
  {
   "cell_type": "code",
   "execution_count": null,
   "id": "9373ebd7",
   "metadata": {},
   "outputs": [],
   "source": []
  }
 ],
 "metadata": {
  "kernelspec": {
   "display_name": "Python 3 (ipykernel)",
   "language": "python",
   "name": "python3"
  },
  "language_info": {
   "codemirror_mode": {
    "name": "ipython",
    "version": 3
   },
   "file_extension": ".py",
   "mimetype": "text/x-python",
   "name": "python",
   "nbconvert_exporter": "python",
   "pygments_lexer": "ipython3",
   "version": "3.7.6"
  }
 },
 "nbformat": 4,
 "nbformat_minor": 5
}
